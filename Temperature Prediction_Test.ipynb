{
 "cells": [
  {
   "cell_type": "markdown",
   "id": "9c4b42fa-2322-48ed-9095-df241fdb2689",
   "metadata": {},
   "source": [
    "# Temperature Prediction\n",
    "\n",
    "## Objective\n",
    "Predict the **temperature** based on humidity data.\n"
   ]
  },
  {
   "cell_type": "markdown",
   "id": "3e2d7635-161e-4fb4-a737-32877031634f",
   "metadata": {},
   "source": [
    "## Dataset Overview\n",
    "The dataset contains hourly or daily readings of humidity and temperature.\n"
   ]
  },
  {
   "cell_type": "code",
   "execution_count": 7,
   "id": "8319acc8-7852-47a2-ad0e-6bc6de735922",
   "metadata": {},
   "outputs": [],
   "source": [
    "# Import required libraries\n",
    "import pandas as pd\n",
    "import numpy as np\n",
    "import matplotlib.pyplot as plt\n",
    "from sklearn.model_selection import train_test_split\n",
    "from sklearn.linear_model import LinearRegression\n",
    "import xgboost as xgb\n",
    "from sklearn.model_selection import GridSearchCV\n",
    "from sklearn.metrics import mean_squared_error, mean_absolute_error, r2_score"
   ]
  },
  {
   "cell_type": "markdown",
   "id": "cd1ea39e-7665-4767-9e04-52fe349b68d1",
   "metadata": {},
   "source": [
    "## Exploratory Data Analysis\n"
   ]
  },
  {
   "cell_type": "code",
   "execution_count": 8,
   "id": "744c26a9-aaaf-44e2-9479-c0f2193ed901",
   "metadata": {
    "scrolled": true
   },
   "outputs": [
    {
     "name": "stdout",
     "output_type": "stream",
     "text": [
      "sensor_id      0\n",
      "lat            0\n",
      "lon            0\n",
      "pressure       0\n",
      "temperature    0\n",
      "humidity       0\n",
      "dtype: int64\n",
      "sensor_id      0.0\n",
      "lat            0.0\n",
      "lon            0.0\n",
      "pressure       0.0\n",
      "temperature    0.0\n",
      "humidity       0.0\n",
      "dtype: float64\n",
      "           sensor_id            lat            lon       pressure  \\\n",
      "count  701548.000000  701548.000000  701548.000000  701548.000000   \n",
      "mean     2835.419842      42.679722      23.333739   94965.292500   \n",
      "std       798.018890       0.025568       0.039365    2577.210945   \n",
      "min      1764.000000      42.622000      23.240000       0.000000   \n",
      "25%      2224.000000      42.665000      23.310000   94528.017500   \n",
      "50%      2323.000000      42.685000      23.332000   95005.480000   \n",
      "75%      3474.000000      42.694000      23.360000   95405.132500   \n",
      "max      4661.000000      42.738000      23.419000  164926.750000   \n",
      "\n",
      "         temperature       humidity  \n",
      "count  701548.000000  701548.000000  \n",
      "mean       24.754990      48.348949  \n",
      "std        14.013001      20.907247  \n",
      "min      -145.120000       0.000000  \n",
      "25%        20.630000      34.140000  \n",
      "50%        24.780000      48.350000  \n",
      "75%        29.870000      62.940000  \n",
      "max        61.170000     100.000000  \n"
     ]
    }
   ],
   "source": [
    "df = pd.read_csv(\"C:/Users/DELL/OneDrive/Desktop/Data Science/humidity.csv\")\n",
    "print(df.isna().sum())\n",
    "print(df.isna().mean() * 100)\n",
    "# Display summary statistics\n",
    "print(df.describe())"
   ]
  },
  {
   "cell_type": "markdown",
   "id": "6268f42f-0c8a-4cb7-bcb8-673e960c9c62",
   "metadata": {},
   "source": [
    "## Data Preprocessing"
   ]
  },
  {
   "cell_type": "code",
   "execution_count": 9,
   "id": "5a1166fd-9f1f-4c3b-8b93-d8ef6a98ee6e",
   "metadata": {},
   "outputs": [
    {
     "name": "stdout",
     "output_type": "stream",
     "text": [
      "        sensor_id     lat     lon  pressure  temperature  humidity\n",
      "0            2266  42.738  23.272  95270.27        23.46     62.48\n",
      "1            2292  42.663  23.273  94355.83        23.06     59.46\n",
      "2            3096  42.700  23.360  95155.81        26.53     44.38\n",
      "3            3428  42.624  23.406  94679.57        28.34     38.28\n",
      "4            3472  42.669  23.318  94327.88        26.31     46.37\n",
      "...           ...     ...     ...       ...          ...       ...\n",
      "701543       3558  42.671  23.364  95562.08        21.99     52.28\n",
      "701544       3836  42.702  23.371  96070.06        21.41     56.84\n",
      "701545       3296  42.671  23.325  95230.42        22.53     51.72\n",
      "701546       2234  42.685  23.356  95653.14        23.01     49.78\n",
      "701547       2232  42.685  23.301  95418.48        22.57     51.44\n",
      "\n",
      "[701548 rows x 6 columns]\n"
     ]
    }
   ],
   "source": [
    "# Drop any rows with missing values\n",
    "Empty_rows = df.dropna()\n",
    "print(Empty_rows)\n",
    "# Define features and target\n",
    "features = df[['sensor_id', 'lat', 'lon', 'pressure', 'humidity']]\n",
    "target = df[['temperature']]\n",
    "# Train-test split\n",
    "X_train, X_test, y_train, y_test = train_test_split(features, target, test_size = 0.2, random_state = 42)"
   ]
  },
  {
   "cell_type": "markdown",
   "id": "ed36023b-2177-4fb1-97ec-183ddf72e7f4",
   "metadata": {},
   "source": [
    "## Model - 1: Linear Regresssion"
   ]
  },
  {
   "cell_type": "code",
   "execution_count": 10,
   "id": "4b2b6989-f604-4fe1-a9c2-bf854339f9f6",
   "metadata": {},
   "outputs": [
    {
     "name": "stdout",
     "output_type": "stream",
     "text": [
      "[[15.79979966]\n",
      " [29.45602307]\n",
      " [19.93633605]\n",
      " ...\n",
      " [28.36709784]\n",
      " [27.54932379]\n",
      " [15.64763093]]\n"
     ]
    }
   ],
   "source": [
    "# Linear Regression\n",
    "model = LinearRegression()\n",
    "model.fit(features, target)\n",
    "# Predict\n",
    "y_predict = model.predict(X_test)\n",
    "print(y_predict)"
   ]
  },
  {
   "cell_type": "markdown",
   "id": "f0714114-4a17-4e5b-a3ac-bba3fd85b8f2",
   "metadata": {},
   "source": [
    "## Evaluation\n"
   ]
  },
  {
   "cell_type": "code",
   "execution_count": 11,
   "id": "3c8e2223-6621-4dd2-82a6-bdd6ed6e12ee",
   "metadata": {},
   "outputs": [
    {
     "name": "stdout",
     "output_type": "stream",
     "text": [
      "[[15.79979966]\n",
      " [29.45602307]\n",
      " [19.93633605]\n",
      " ...\n",
      " [28.36709784]\n",
      " [27.54932379]\n",
      " [15.64763093]]\n",
      "R-squared (R2) Score: 0.5045\n",
      "Mean Absolute Error: 3.3546\n",
      "Mean Squared error: 96.0953\n",
      "Final Realistic Error: 9.8028\n"
     ]
    }
   ],
   "source": [
    "y_predict = model.predict(X_test)\n",
    "print(y_predict)\n",
    "# Evaluate model performance\n",
    "r2 = r2_score(y_test, y_predict)\n",
    "print(f'R-squared (R2) Score: {r2:.4f}')\n",
    "mae = mean_absolute_error(y_test, y_predict)\n",
    "print(f'Mean Absolute Error: {mae:.4f}')\n",
    "mse = mean_squared_error(y_test, y_predict)\n",
    "print(f'Mean Squared error: {mse:.4f}')\n",
    "rmse = np.sqrt(mse)\n",
    "print(f'Final Realistic Error: {rmse:.4f}')"
   ]
  },
  {
   "cell_type": "markdown",
   "id": "872ad9b7",
   "metadata": {},
   "source": [
    "## Predicted Vs Residual Temperature Plot"
   ]
  },
  {
   "cell_type": "code",
   "execution_count": 12,
   "id": "7456f7d4-6749-4b98-ba0f-e9b1c3adf87f",
   "metadata": {},
   "outputs": [
    {
     "data": {
      "image/png": "[encoded data removed]",
      "text/plain": [
       "<Figure size 640x480 with 1 Axes>"
      ]
     },
     "metadata": {},
     "output_type": "display_data"
    }
   ],
   "source": [
    "Residuals = y_test.values - y_predict\n",
    "plt.scatter(y_predict, Residuals, color = 'purple', marker = '.', label = 'Sensor id')\n",
    "plt.xlabel('Predicted Temperature')\n",
    "plt.ylabel('Residual Temperature')\n",
    "plt.title('Predicted Vs Residual Temperature')\n",
    "plt.grid(True)\n",
    "plt.savefig('C:/Users/DELL/OneDrive/Desktop/Data Science/For saving images using matplotlib/plot6.png', dpi = 300, bbox_inches = 'tight')\n",
    "plt.show()"
   ]
  },
  {
   "cell_type": "markdown",
   "id": "4fc4fdc1",
   "metadata": {},
   "source": [
    "## Observation (Inferred from low R^2): \n",
    "The scatter plot for Linear Regression shows a C-shaped or parabolic pattern centered near 0, but with a wide spread, especially at the extremes.\n",
    "## Insight: \n",
    "The clear, non-random pattern indicates that the Linear Regression model is an inappropriate fit for the data. The model is systematically making errors that are dependent on the magnitude of the predicted temperature, suggesting that a non-linear model is required."
   ]
  },
  {
   "cell_type": "markdown",
   "id": "7bd14b00-55c2-47f3-ab49-a8c113bace4c",
   "metadata": {},
   "source": [
    "## Model - 2: XgBoost Regressor"
   ]
  },
  {
   "cell_type": "code",
   "execution_count": 13,
   "id": "4e08252d-1391-4f1d-a115-b5b1460fa274",
   "metadata": {},
   "outputs": [
    {
     "name": "stdout",
     "output_type": "stream",
     "text": [
      "[18.147583 32.797745 20.069296 ... 30.876564 29.78575  18.099453]\n"
     ]
    }
   ],
   "source": [
    "gbr_model = xgb.XGBRegressor(objective='reg:squarederror', n_estimators=100, learning_rate=0.1, max_depth=5, random_state=42, tree_method='hist')\n",
    "gbr_model.fit(X_train, y_train)\n",
    "y_predict = gbr_model.predict(X_test)\n",
    "print(y_predict)"
   ]
  },
  {
   "cell_type": "markdown",
   "id": "03262544-f398-4e8f-83a0-53e5fb8f4d3b",
   "metadata": {},
   "source": [
    "## Evaluation"
   ]
  },
  {
   "cell_type": "code",
   "execution_count": 14,
   "id": "1c5aaed6-9b00-42e4-ad48-734dbdec06e0",
   "metadata": {},
   "outputs": [
    {
     "name": "stdout",
     "output_type": "stream",
     "text": [
      "R-squared (R2) Score: 0.9727\n",
      "Mean Absolute Error: 1.7206\n",
      "Mean Squared error: 5.3023\n",
      "Final Realistic Error: 2.3027\n"
     ]
    }
   ],
   "source": [
    "r2 = r2_score(y_test, y_predict)\n",
    "print(f'R-squared (R2) Score: {r2:.4f}')\n",
    "mae = mean_absolute_error(y_test, y_predict)\n",
    "print(f'Mean Absolute Error: {mae:.4f}')\n",
    "mse = mean_squared_error(y_test, y_predict)\n",
    "print(f'Mean Squared error: {mse:.4f}')\n",
    "rmse = np.sqrt(mse)\n",
    "print(f'Final Realistic Error: {rmse:.4f}')"
   ]
  },
  {
   "cell_type": "markdown",
   "id": "be25e0c8",
   "metadata": {},
   "source": [
    "## Predicted Vs Residual Temperature Plot"
   ]
  },
  {
   "cell_type": "code",
   "execution_count": 15,
   "id": "3e2fa431-efe6-456d-8a98-27e19c4efa9a",
   "metadata": {},
   "outputs": [
    {
     "data": {
      "image/png": "[encoded data removed]",
      "text/plain": [
       "<Figure size 640x480 with 1 Axes>"
      ]
     },
     "metadata": {},
     "output_type": "display_data"
    }
   ],
   "source": [
    "Residuals = y_test.values.flatten() - y_predict\n",
    "plt.scatter(y_predict, Residuals, color = 'purple', marker = '.', label = 'Sensor id')\n",
    "plt.xlabel('Predicted Temperature')\n",
    "plt.ylabel('Residual Temperature')\n",
    "plt.title('Predicted Vs Residual Temperature')\n",
    "plt.grid(True)\n",
    "plt.savefig('C:/Users/DELL/OneDrive/Desktop/Data Science/For saving images using matplotlib/plot6.png', dpi = 300, bbox_inches = 'tight')\n",
    "plt.show()"
   ]
  },
  {
   "cell_type": "markdown",
   "id": "81a14587",
   "metadata": {},
   "source": [
    "## Observation: \n",
    "The points should be much tighter and more evenly scattered around the horizontal y=0 line, forming a relatively uniform, dense cloud.\n",
    "## Insight: \n",
    "The lack of a clear pattern in the XGBoost residual plot suggests that the model has successfully captured the underlying relationship between the features and the target. The errors are random noise (close to homoscedasticity), confirming the high $R^2$ score and demonstrating that the model is making good predictions across the entire range of temperatures."
   ]
  },
  {
   "cell_type": "markdown",
   "id": "d8f28b50",
   "metadata": {},
   "source": [
    "## Checking the model on new values"
   ]
  },
  {
   "cell_type": "code",
   "execution_count": 16,
   "id": "62a36fa3-d197-437a-a3c3-77e5ca2d2b21",
   "metadata": {},
   "outputs": [
    {
     "name": "stdout",
     "output_type": "stream",
     "text": [
      "The predicted temperature for X1 ([9999, 42.68, 23.33, 95000, 48.0]) is: 24.6052 °C\n",
      "The predicted temperature for X2 ([9999, 42.7, 23.36, 94500, 20.0]) is: 39.4631 °C\n",
      "The predicted temperature for X3 ([9999, 42.66, 23.31, 95500, 80.0]) is: 13.7397 °C\n",
      "The predicted temperature for X4 ([9999, 42.74, 23.42, 98800, 100]) is: 14.3687 °C\n",
      "The predicted temperature for X5 ([9999, 42.62, 23.34, 94000, 0.0]) is: 39.5142 °C\n"
     ]
    }
   ],
   "source": [
    "feature_names = ['sensor_id', 'lat', 'lon', 'pressure', 'humidity']\n",
    "X1 = [9999, 42.68, 23.33, 95000, 48.00]\n",
    "X2 = [9999, 42.70, 23.36, 94500, 20.00]\n",
    "X3 = [9999, 42.66, 23.31, 95500, 80.00]\n",
    "X4 = [9999, 42.74, 23.42, 98800, 100]\n",
    "X5 = [9999, 42.62, 23.34, 94000, 0.00]\n",
    "test_inputs = [X1, X2, X3, X4, X5]\n",
    "X_new = pd.DataFrame(test_inputs, columns=feature_names)\n",
    "y_predict_new = gbr_model.predict(X_new)\n",
    "for i, (X, y_pred) in enumerate(zip(test_inputs, y_predict_new)):\n",
    "    print(f'The predicted temperature for X{i+1} ({X}) is: {y_pred:.4f} °C')"
   ]
  },
  {
   "cell_type": "markdown",
   "id": "61b2c62f",
   "metadata": {},
   "source": [
    "## Model Validation: \n",
    "The XGBoost Regressor (with an R^2 of 0.9727) successfully learned the expected physical relationship: as humidity decreases, temperature tends to increase, and vice-versa. \n",
    "## Predictive Utility: \n",
    "The model is highly effective across the full range of input values, providing plausible predictions from the coldest expected conditions (high humidity) to the warmest (low humidity). This final test confirms the model's robustness and its practical utility for temperature prediction based on these environmental features."
   ]
  },
  {
   "cell_type": "markdown",
   "id": "28f72bdb",
   "metadata": {},
   "source": [
    "## "
   ]
  },
  {
   "cell_type": "markdown",
   "id": "bf8dac4a",
   "metadata": {},
   "source": [
    "## Conclusion:\n",
    "The initial assumption of a simple linear relationship between humidity and temperature (along with other features) is insufficient. The non-linear nature of the data is captured effectively by the XGBoost Regressor, which is a powerful ensemble method."
   ]
  }
 ],
 "metadata": {
  "kernelspec": {
   "display_name": "myenv_kernel",
   "language": "python",
   "name": "myenv_kernel"
  },
  "language_info": {
   "codemirror_mode": {
    "name": "ipython",
    "version": 3
   },
   "file_extension": ".py",
   "mimetype": "text/x-python",
   "name": "python",
   "nbconvert_exporter": "python",
   "pygments_lexer": "ipython3",
   "version": "3.13.8"
  }
 },
 "nbformat": 4,
 "nbformat_minor": 5
}
